{
 "cells": [
  {
   "cell_type": "markdown",
   "id": "d9870395",
   "metadata": {},
   "source": [
    "what all u see in your calculator\n",
    "1) title of application ------ done\n",
    "2)  max min and close buttons ------done\n",
    "3) #menu bar ----- not required\n",
    "#history ------ not required\n",
    "display  ------- done\n",
    "4) clear button \n",
    "#sq root advance signs  --- your opinion\n",
    "5)buttons of number 0-9 (same light shade, numer is black)\n",
    "6) basic arithematic operator(different dark colour, signs are black)---done\n",
    "7) equal to button (blue) -----done\n",
    "8) decimal button "
   ]
  },
  {
   "cell_type": "code",
   "execution_count": 1,
   "id": "04359730",
   "metadata": {},
   "outputs": [],
   "source": [
    "import tkinter as tk"
   ]
  },
  {
   "cell_type": "code",
   "execution_count": 49,
   "id": "6ba0a110",
   "metadata": {},
   "outputs": [],
   "source": [
    "# initiating the application\n",
    "app = tk.Tk()\n",
    "\n",
    "#shape (height and width) of window\n",
    "app.geometry(\"345x485\")\n",
    "\n",
    "# title to the application\n",
    "app.title(\"Calculator\")\n",
    "\n",
    "#display\n",
    "display = tk.Text(app,height = 2, width = 15, bg =\"white\", font = (\"Arial\",20,\"bold\"))\n",
    "display.grid(row= 1, columnspan=4)\n",
    "\n",
    "# buttons 0-9\n",
    "button_1 = tk.Button(app, text = \"1\", width = 4,font = (\"Arial\",14))\n",
    "button_1.grid(row = 4, column = 0,padx = 1,pady=2)\n",
    "button_2 = tk.Button(app, text = \"2\", width = 4,font = (\"Arial\",14))\n",
    "button_2.grid(row = 4, column = 1,padx = 1,pady=2)\n",
    "button_3 = tk.Button(app, text = \"3\", width = 4,font = (\"Arial\",14))\n",
    "button_3.grid(row = 4, column = 2,padx = 1,pady=2)\n",
    "\n",
    "\n",
    "button_4 = tk.Button(app, text = \"4\", width = 4,font = (\"Arial\",14))\n",
    "button_4.grid(row = 3, column = 0)\n",
    "button_5 = tk.Button(app, text = \"5\", width = 4,font = (\"Arial\",14))\n",
    "button_5.grid(row = 3, column = 1)\n",
    "button_6 = tk.Button(app, text = \"6\", width = 4,font = (\"Arial\",14))\n",
    "button_6.grid(row = 3, column = 2)\n",
    "\n",
    "\n",
    "button_7 = tk.Button(app, text = \"7\", width = 4,font = (\"Arial\",14))\n",
    "button_7.grid(row = 2, column = 0)\n",
    "button_8 = tk.Button(app, text = \"8\", width = 4,font = (\"Arial\",14))\n",
    "button_8.grid(row = 2, column = 1)\n",
    "button_9 = tk.Button(app, text = \"9\", width = 4,font = (\"Arial\",14))\n",
    "button_9.grid(row = 2, column = 2)\n",
    "\n",
    "button_0 = tk.Button(app, text = \"0\", width = 4,font = (\"Arial\",14))\n",
    "button_0.grid(row = 5, column = 1)\n",
    "\n",
    "# symbolic buttons \n",
    "button_plus = tk.Button(app, text = \"+\", width = 4,font = (\"Arial\",14))\n",
    "button_plus.grid(row = 5, column = 3)\n",
    "\n",
    "button_minus = tk.Button(app, text = \"-\", width = 4,font = (\"Arial\",14))\n",
    "button_minus.grid(row = 4, column = 3)\n",
    "\n",
    "button_multiply = tk.Button(app, text = \"*\", width = 4,font = (\"Arial\",14))\n",
    "button_multiply.grid(row = 3, column = 3)\n",
    "\n",
    "button_divide = tk.Button(app, text = \"/\", width = 4,font = (\"Arial\",14))\n",
    "button_divide.grid(row = 2, column = 3)\n",
    "\n",
    "app.mainloop()"
   ]
  },
  {
   "cell_type": "code",
   "execution_count": null,
   "id": "2c6844b4",
   "metadata": {},
   "outputs": [],
   "source": []
  },
  {
   "cell_type": "code",
   "execution_count": null,
   "id": "3c87cb19",
   "metadata": {},
   "outputs": [],
   "source": []
  },
  {
   "cell_type": "code",
   "execution_count": null,
   "id": "3cbfd3e6",
   "metadata": {},
   "outputs": [],
   "source": []
  }
 ],
 "metadata": {
  "kernelspec": {
   "display_name": "Python 3 (ipykernel)",
   "language": "python",
   "name": "python3"
  },
  "language_info": {
   "codemirror_mode": {
    "name": "ipython",
    "version": 3
   },
   "file_extension": ".py",
   "mimetype": "text/x-python",
   "name": "python",
   "nbconvert_exporter": "python",
   "pygments_lexer": "ipython3",
   "version": "3.9.7"
  }
 },
 "nbformat": 4,
 "nbformat_minor": 5
}
